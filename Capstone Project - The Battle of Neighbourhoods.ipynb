{
    "cells": [
        {
            "cell_type": "markdown",
            "metadata": {
                "collapsed": true
            },
            "source": "## Capstone Project - The Battle of Neighbourhoods"
        },
        {
            "cell_type": "markdown",
            "metadata": {},
            "source": "### Introduction/Business Problem"
        },
        {
            "cell_type": "markdown",
            "metadata": {},
            "source": "Ollie's Ice Cream + Stuff is a dog-friendly ice cream parlour based in Bushwick, New York City. They are the first-ever ice cream parlour in NYC making flavours dogs can actually eat.\n\nWith business booming, the owners of Ollie's Ice Cream + Stuff are wondering if they should open a franchise outlet in Toronto.\n\nThis report aims to find out: \nShould Ollie's Ice Cream + Stuff open a franchise outlet in Toronto? Which neighbourhood in Toronto is best suited for their store?"
        },
        {
            "cell_type": "markdown",
            "metadata": {},
            "source": "### Data"
        },
        {
            "cell_type": "markdown",
            "metadata": {},
            "source": "##### First, we need to find out if Ollie's Ice Cream + Stuff is likely to be as successful in Toronto as it is in New York City. \n\nWe can do this by answering the following questions:\n\n1. Does Toronto have an ice cream culture? \n2. Are there as many dog owners in Toronto as there are in New York City?\n\nUsing Foursquare location data, we can determine and compare the number of ice cream parlours in each city. \n\nUsing the NYC Dog Licensing Dataset and the Toronto Dog Licence Database, we can determine and compare the number of dog owners in each city. "
        },
        {
            "cell_type": "markdown",
            "metadata": {},
            "source": "##### Next, we need to find out which neighbourhood in Toronto is most similar to Bushwick.\n\nWe can do this by answering the following questions:\n\n1. What amenities are available in Bushwick?\n2. Which neighbourhood in Toronto has similar amenities?\n\nUsing Foursquare location data, we can determine and compare the amenities available in Bushwick and the different neighbourhoods in Toronto."
        },
        {
            "cell_type": "code",
            "execution_count": null,
            "metadata": {},
            "outputs": [],
            "source": ""
        }
    ],
    "metadata": {
        "kernelspec": {
            "display_name": "Python 3.6",
            "language": "python",
            "name": "python3"
        },
        "language_info": {
            "codemirror_mode": {
                "name": "ipython",
                "version": 3
            },
            "file_extension": ".py",
            "mimetype": "text/x-python",
            "name": "python",
            "nbconvert_exporter": "python",
            "pygments_lexer": "ipython3",
            "version": "3.6.9"
        }
    },
    "nbformat": 4,
    "nbformat_minor": 1
}